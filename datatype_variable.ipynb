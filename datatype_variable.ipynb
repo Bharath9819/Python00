{
  "nbformat": 4,
  "nbformat_minor": 0,
  "metadata": {
    "colab": {
      "provenance": [],
      "authorship_tag": "ABX9TyP3E4zbFjT9gjQ/u44Ll9ic",
      "include_colab_link": true
    },
    "kernelspec": {
      "name": "python3",
      "display_name": "Python 3"
    },
    "language_info": {
      "name": "python"
    }
  },
  "cells": [
    {
      "cell_type": "markdown",
      "metadata": {
        "id": "view-in-github",
        "colab_type": "text"
      },
      "source": [
        "<a href=\"https://colab.research.google.com/github/Bharath9819/Python00/blob/main/datatype_variable.ipynb\" target=\"_parent\"><img src=\"https://colab.research.google.com/assets/colab-badge.svg\" alt=\"Open In Colab\"/></a>"
      ]
    },
    {
      "cell_type": "code",
      "execution_count": null,
      "metadata": {
        "colab": {
          "base_uri": "https://localhost:8080/"
        },
        "id": "e9OpkH9bPlZW",
        "outputId": "38296a63-7b10-48be-f104-f28ec28e5060"
      },
      "outputs": [
        {
          "output_type": "stream",
          "name": "stdout",
          "text": [
            "hello man\n"
          ]
        }
      ],
      "source": [
        "print(\"hello man\")"
      ]
    },
    {
      "cell_type": "code",
      "source": [
        "#cnrl + enter to run code  # shift + enter to run and create new line for coding\n",
        "#alt + enter create new line with excutuion previous line"
      ],
      "metadata": {
        "id": "NAbrW3IhQlgn"
      },
      "execution_count": null,
      "outputs": []
    },
    {
      "cell_type": "code",
      "source": [
        "print(\"hello\" + \" python\")  #concatenation"
      ],
      "metadata": {
        "colab": {
          "base_uri": "https://localhost:8080/"
        },
        "id": "0W1iFglLRHqn",
        "outputId": "47611ee9-2a41-47f1-c0ea-26693bd30e72"
      },
      "execution_count": null,
      "outputs": [
        {
          "output_type": "stream",
          "name": "stdout",
          "text": [
            "hello python\n"
          ]
        }
      ]
    },
    {
      "cell_type": "code",
      "source": [
        "print(9+1)   #addttion"
      ],
      "metadata": {
        "colab": {
          "base_uri": "https://localhost:8080/"
        },
        "id": "nzzATULUXGS2",
        "outputId": "6d75166a-b7cb-48aa-94f0-89b17ca7d5b1"
      },
      "execution_count": null,
      "outputs": [
        {
          "output_type": "stream",
          "name": "stdout",
          "text": [
            "10\n"
          ]
        }
      ]
    },
    {
      "cell_type": "code",
      "source": [
        "print(\"9+1\") #string"
      ],
      "metadata": {
        "colab": {
          "base_uri": "https://localhost:8080/"
        },
        "id": "ea5Q4vr0XLHY",
        "outputId": "d3486ca6-df7a-4f95-ec4b-453a94bdd6e5"
      },
      "execution_count": null,
      "outputs": [
        {
          "output_type": "stream",
          "name": "stdout",
          "text": [
            "9+1\n"
          ]
        }
      ]
    },
    {
      "cell_type": "code",
      "source": [
        "print(\"9\"+\"10\")"
      ],
      "metadata": {
        "colab": {
          "base_uri": "https://localhost:8080/"
        },
        "id": "xe1ilRwLYAZn",
        "outputId": "fcd08cc6-85be-4ce7-c8a2-242b01ec55b2"
      },
      "execution_count": null,
      "outputs": [
        {
          "output_type": "stream",
          "name": "stdout",
          "text": [
            "910\n"
          ]
        }
      ]
    },
    {
      "cell_type": "code",
      "source": [
        "print(9, \"10\" + \"rupress\" , \"world\" ,3*8)"
      ],
      "metadata": {
        "colab": {
          "base_uri": "https://localhost:8080/"
        },
        "id": "Ws97ntscYiyZ",
        "outputId": "a524beb0-473f-43bb-df98-30e9cb607465"
      },
      "execution_count": null,
      "outputs": [
        {
          "output_type": "stream",
          "name": "stdout",
          "text": [
            "9 10rupress world 24\n"
          ]
        }
      ]
    },
    {
      "cell_type": "code",
      "source": [
        "print(\"A\"*5)"
      ],
      "metadata": {
        "colab": {
          "base_uri": "https://localhost:8080/"
        },
        "id": "_gQCDTqWZUap",
        "outputId": "b1ffcc00-cef3-45ef-b1e8-61e7e9077759"
      },
      "execution_count": null,
      "outputs": [
        {
          "output_type": "stream",
          "name": "stdout",
          "text": [
            "AAAAA\n"
          ]
        }
      ]
    },
    {
      "cell_type": "code",
      "source": [
        "print(5 + \"A\")    #can't able to excute diff datatypes"
      ],
      "metadata": {
        "colab": {
          "base_uri": "https://localhost:8080/",
          "height": 141
        },
        "id": "zDqRHZ1rZa7x",
        "outputId": "433ee7a4-ec9b-407c-f951-bf69917b1b19"
      },
      "execution_count": null,
      "outputs": [
        {
          "output_type": "error",
          "ename": "TypeError",
          "evalue": "unsupported operand type(s) for +: 'int' and 'str'",
          "traceback": [
            "\u001b[0;31m---------------------------------------------------------------------------\u001b[0m",
            "\u001b[0;31mTypeError\u001b[0m                                 Traceback (most recent call last)",
            "\u001b[0;32m<ipython-input-1-30abfd97caf3>\u001b[0m in \u001b[0;36m<cell line: 1>\u001b[0;34m()\u001b[0m\n\u001b[0;32m----> 1\u001b[0;31m \u001b[0mprint\u001b[0m\u001b[0;34m(\u001b[0m\u001b[0;36m5\u001b[0m \u001b[0;34m+\u001b[0m \u001b[0;34m\"A\"\u001b[0m\u001b[0;34m)\u001b[0m    \u001b[0;31m#can't able to excute diff datatypes\u001b[0m\u001b[0;34m\u001b[0m\u001b[0;34m\u001b[0m\u001b[0m\n\u001b[0m",
            "\u001b[0;31mTypeError\u001b[0m: unsupported operand type(s) for +: 'int' and 'str'"
          ]
        }
      ]
    },
    {
      "cell_type": "code",
      "source": [
        "print(5 *\"B\")"
      ],
      "metadata": {
        "id": "4SnR95KMZoWp",
        "outputId": "0a1afea0-84c7-40f2-a1b7-6a3644c28df4",
        "colab": {
          "base_uri": "https://localhost:8080/"
        }
      },
      "execution_count": 1,
      "outputs": [
        {
          "output_type": "stream",
          "name": "stdout",
          "text": [
            "BBBBB\n"
          ]
        }
      ]
    },
    {
      "cell_type": "code",
      "source": [
        "   str1= \"Hello\"\n",
        "   str2= \"World\"\n",
        "   print(str1 + str2);"
      ],
      "metadata": {
        "colab": {
          "base_uri": "https://localhost:8080/"
        },
        "id": "bl7c4Yop_yYh",
        "outputId": "dfb0e9f2-46a0-47bb-8836-10ce7c0aa23f"
      },
      "execution_count": 2,
      "outputs": [
        {
          "output_type": "stream",
          "name": "stdout",
          "text": [
            "HelloWorld\n"
          ]
        }
      ]
    },
    {
      "cell_type": "code",
      "source": [
        "var1=100\n",
        "print(var1)"
      ],
      "metadata": {
        "colab": {
          "base_uri": "https://localhost:8080/"
        },
        "id": "DB_si0ZvKQ-D",
        "outputId": "d927c5a2-58d1-40f9-c1eb-7433462ceb67"
      },
      "execution_count": 4,
      "outputs": [
        {
          "output_type": "stream",
          "name": "stdout",
          "text": [
            "100\n"
          ]
        }
      ]
    },
    {
      "cell_type": "code",
      "source": [
        "_var1=\"n0thing\"\n",
        "print(_var1)"
      ],
      "metadata": {
        "colab": {
          "base_uri": "https://localhost:8080/"
        },
        "id": "_pjHfdRXKbFT",
        "outputId": "a87bfb81-d684-44ef-f53a-c5479dad882f"
      },
      "execution_count": 5,
      "outputs": [
        {
          "output_type": "stream",
          "name": "stdout",
          "text": [
            "n0thing\n"
          ]
        }
      ]
    },
    {
      "cell_type": "markdown",
      "source": [
        "when assigning variable its shld start with _ or aplhabet"
      ],
      "metadata": {
        "id": "au76POuJK14L"
      }
    },
    {
      "cell_type": "code",
      "source": [
        "*ajhvai=\"no\"\n",
        "print(*ajhvai)"
      ],
      "metadata": {
        "colab": {
          "base_uri": "https://localhost:8080/",
          "height": 106
        },
        "id": "lN3w61joKkSq",
        "outputId": "e61c2ca7-83ed-43e6-992e-c9e0894cead7"
      },
      "execution_count": 6,
      "outputs": [
        {
          "output_type": "error",
          "ename": "SyntaxError",
          "evalue": "starred assignment target must be in a list or tuple (<ipython-input-6-94bc8824c404>, line 1)",
          "traceback": [
            "\u001b[0;36m  File \u001b[0;32m\"<ipython-input-6-94bc8824c404>\"\u001b[0;36m, line \u001b[0;32m1\u001b[0m\n\u001b[0;31m    *ajhvai=\"no\"\u001b[0m\n\u001b[0m    ^\u001b[0m\n\u001b[0;31mSyntaxError\u001b[0m\u001b[0;31m:\u001b[0m starred assignment target must be in a list or tuple\n"
          ]
        }
      ]
    },
    {
      "cell_type": "code",
      "source": [
        "2were=100\n",
        "print(2were)"
      ],
      "metadata": {
        "colab": {
          "base_uri": "https://localhost:8080/",
          "height": 106
        },
        "id": "rzgZaQi7Kr_r",
        "outputId": "6c10db21-aa75-4634-f25f-0857a05476ed"
      },
      "execution_count": 7,
      "outputs": [
        {
          "output_type": "error",
          "ename": "SyntaxError",
          "evalue": "invalid decimal literal (<ipython-input-7-559f3fc7a874>, line 1)",
          "traceback": [
            "\u001b[0;36m  File \u001b[0;32m\"<ipython-input-7-559f3fc7a874>\"\u001b[0;36m, line \u001b[0;32m1\u001b[0m\n\u001b[0;31m    2were=100\u001b[0m\n\u001b[0m    ^\u001b[0m\n\u001b[0;31mSyntaxError\u001b[0m\u001b[0;31m:\u001b[0m invalid decimal literal\n"
          ]
        }
      ]
    },
    {
      "cell_type": "code",
      "source": [
        "#type and converation:\n",
        "va1=\"1234\"\n",
        "print(type(va1))"
      ],
      "metadata": {
        "colab": {
          "base_uri": "https://localhost:8080/"
        },
        "id": "vuVIcE1HKz6i",
        "outputId": "6beae199-ae46-476a-882e-27bcc2e293a7"
      },
      "execution_count": 9,
      "outputs": [
        {
          "output_type": "stream",
          "name": "stdout",
          "text": [
            "<class 'str'>\n"
          ]
        }
      ]
    },
    {
      "cell_type": "code",
      "source": [
        "#type and converation:\n",
        "va1=\"1234\"\n",
        "print(type(int(va1)))"
      ],
      "metadata": {
        "colab": {
          "base_uri": "https://localhost:8080/"
        },
        "id": "dgqv2bF9LQ96",
        "outputId": "07568af9-f974-4b54-8518-6e9c8b1367c5"
      },
      "execution_count": 10,
      "outputs": [
        {
          "output_type": "stream",
          "name": "stdout",
          "text": [
            "<class 'int'>\n"
          ]
        }
      ]
    },
    {
      "cell_type": "markdown",
      "source": [
        "we can't able to change stg to int , if its not in th value."
      ],
      "metadata": {
        "id": "rK3WiXCMLd3i"
      }
    },
    {
      "cell_type": "code",
      "source": [
        "#type and converation:\n",
        "va1=\"nothing\"\n",
        "print(type(int(va1)))\n"
      ],
      "metadata": {
        "colab": {
          "base_uri": "https://localhost:8080/",
          "height": 176
        },
        "id": "qMsQ4dMjLXH6",
        "outputId": "37b78127-2749-4c2e-d1ec-262973b6d1c5"
      },
      "execution_count": 11,
      "outputs": [
        {
          "output_type": "error",
          "ename": "ValueError",
          "evalue": "invalid literal for int() with base 10: 'nothing'",
          "traceback": [
            "\u001b[0;31m---------------------------------------------------------------------------\u001b[0m",
            "\u001b[0;31mValueError\u001b[0m                                Traceback (most recent call last)",
            "\u001b[0;32m<ipython-input-11-20d347a168d5>\u001b[0m in \u001b[0;36m<cell line: 3>\u001b[0;34m()\u001b[0m\n\u001b[1;32m      1\u001b[0m \u001b[0;31m#type and converation:\u001b[0m\u001b[0;34m\u001b[0m\u001b[0;34m\u001b[0m\u001b[0m\n\u001b[1;32m      2\u001b[0m \u001b[0mva1\u001b[0m\u001b[0;34m=\u001b[0m\u001b[0;34m\"nothing\"\u001b[0m\u001b[0;34m\u001b[0m\u001b[0;34m\u001b[0m\u001b[0m\n\u001b[0;32m----> 3\u001b[0;31m \u001b[0mprint\u001b[0m\u001b[0;34m(\u001b[0m\u001b[0mtype\u001b[0m\u001b[0;34m(\u001b[0m\u001b[0mint\u001b[0m\u001b[0;34m(\u001b[0m\u001b[0mva1\u001b[0m\u001b[0;34m)\u001b[0m\u001b[0;34m)\u001b[0m\u001b[0;34m)\u001b[0m\u001b[0;34m\u001b[0m\u001b[0;34m\u001b[0m\u001b[0m\n\u001b[0m",
            "\u001b[0;31mValueError\u001b[0m: invalid literal for int() with base 10: 'nothing'"
          ]
        }
      ]
    },
    {
      "cell_type": "code",
      "source": [
        "#type and converation:\n",
        "va1=\"1234N\"\n",
        "print(type(int(va1)))"
      ],
      "metadata": {
        "colab": {
          "base_uri": "https://localhost:8080/",
          "height": 176
        },
        "id": "RQ26qLG4Lc7S",
        "outputId": "599d3fac-6b66-4eac-cbca-3984847f8d10"
      },
      "execution_count": 13,
      "outputs": [
        {
          "output_type": "error",
          "ename": "ValueError",
          "evalue": "invalid literal for int() with base 10: '1234N'",
          "traceback": [
            "\u001b[0;31m---------------------------------------------------------------------------\u001b[0m",
            "\u001b[0;31mValueError\u001b[0m                                Traceback (most recent call last)",
            "\u001b[0;32m<ipython-input-13-fc61a65c705e>\u001b[0m in \u001b[0;36m<cell line: 3>\u001b[0;34m()\u001b[0m\n\u001b[1;32m      1\u001b[0m \u001b[0;31m#type and converation:\u001b[0m\u001b[0;34m\u001b[0m\u001b[0;34m\u001b[0m\u001b[0m\n\u001b[1;32m      2\u001b[0m \u001b[0mva1\u001b[0m\u001b[0;34m=\u001b[0m\u001b[0;34m\"1234N\"\u001b[0m\u001b[0;34m\u001b[0m\u001b[0;34m\u001b[0m\u001b[0m\n\u001b[0;32m----> 3\u001b[0;31m \u001b[0mprint\u001b[0m\u001b[0;34m(\u001b[0m\u001b[0mtype\u001b[0m\u001b[0;34m(\u001b[0m\u001b[0mint\u001b[0m\u001b[0;34m(\u001b[0m\u001b[0mva1\u001b[0m\u001b[0;34m)\u001b[0m\u001b[0;34m)\u001b[0m\u001b[0;34m)\u001b[0m\u001b[0;34m\u001b[0m\u001b[0;34m\u001b[0m\u001b[0m\n\u001b[0m",
            "\u001b[0;31mValueError\u001b[0m: invalid literal for int() with base 10: '1234N'"
          ]
        }
      ]
    },
    {
      "cell_type": "markdown",
      "source": [
        "except 0,\"\" and none , if any value passed in bool it becomes true"
      ],
      "metadata": {
        "id": "8_7izMdfL2ny"
      }
    },
    {
      "cell_type": "code",
      "source": [
        "#type and converation & bool:\n",
        "va1=\"1234\"\n",
        "print(bool(va1))"
      ],
      "metadata": {
        "colab": {
          "base_uri": "https://localhost:8080/"
        },
        "id": "YdA91ngZLvbR",
        "outputId": "707ac737-e3b0-4426-83e4-de6b1ab1013b"
      },
      "execution_count": 15,
      "outputs": [
        {
          "output_type": "stream",
          "name": "stdout",
          "text": [
            "True\n"
          ]
        }
      ]
    },
    {
      "cell_type": "code",
      "source": [
        "#type and converation & bool:\n",
        "va1=\"nope\"\n",
        "print(bool(va1))"
      ],
      "metadata": {
        "colab": {
          "base_uri": "https://localhost:8080/"
        },
        "id": "6QKKekouMCxC",
        "outputId": "cbd862d9-1c0e-4209-91b4-804fd5e49770"
      },
      "execution_count": 17,
      "outputs": [
        {
          "output_type": "stream",
          "name": "stdout",
          "text": [
            "True\n"
          ]
        }
      ]
    },
    {
      "cell_type": "code",
      "source": [
        "#type and converation & bool:\n",
        "va1=None\n",
        "print(bool(va1))"
      ],
      "metadata": {
        "colab": {
          "base_uri": "https://localhost:8080/"
        },
        "id": "ixmWVhcIMO34",
        "outputId": "eed58a25-150e-4610-aea3-b70d9bac7282"
      },
      "execution_count": 18,
      "outputs": [
        {
          "output_type": "stream",
          "name": "stdout",
          "text": [
            "False\n"
          ]
        }
      ]
    },
    {
      "cell_type": "code",
      "source": [
        "#type and converation & bool:\n",
        "va1=None\n",
        "print(type(bool(va1)))"
      ],
      "metadata": {
        "colab": {
          "base_uri": "https://localhost:8080/"
        },
        "id": "ctE1JlLMMYi5",
        "outputId": "da05fe00-8a09-4903-e9a4-408bce1e8d3a"
      },
      "execution_count": 19,
      "outputs": [
        {
          "output_type": "stream",
          "name": "stdout",
          "text": [
            "<class 'bool'>\n"
          ]
        }
      ]
    },
    {
      "cell_type": "code",
      "source": [
        "\n",
        "#type and converation & bool:va1=None\n",
        "print(bool(None))"
      ],
      "metadata": {
        "colab": {
          "base_uri": "https://localhost:8080/"
        },
        "id": "Ry3MMwzVMgXT",
        "outputId": "4c6d835d-80fe-4fba-c988-069ce3de7e9c"
      },
      "execution_count": 21,
      "outputs": [
        {
          "output_type": "stream",
          "name": "stdout",
          "text": [
            "False\n"
          ]
        }
      ]
    },
    {
      "cell_type": "code",
      "source": [
        "var10=12\n",
        "var11=13\n",
        "print(id(var10))\n",
        "print(id(var11))"
      ],
      "metadata": {
        "colab": {
          "base_uri": "https://localhost:8080/"
        },
        "id": "k7q_OXCnMn2a",
        "outputId": "71213371-440f-4941-a5e6-f2dcef0dd7be"
      },
      "execution_count": 23,
      "outputs": [
        {
          "output_type": "stream",
          "name": "stdout",
          "text": [
            "133384565359184\n",
            "133384565359216\n"
          ]
        }
      ]
    },
    {
      "cell_type": "code",
      "source": [
        "var10=12\n",
        "var11=12\n",
        "print(id(var10))\n",
        "print(id(var11))"
      ],
      "metadata": {
        "colab": {
          "base_uri": "https://localhost:8080/"
        },
        "id": "ofMKQwFmNA5i",
        "outputId": "858f096c-b7c9-4dac-fb68-ed34b7d4f33f"
      },
      "execution_count": 24,
      "outputs": [
        {
          "output_type": "stream",
          "name": "stdout",
          "text": [
            "133384565359184\n",
            "133384565359184\n"
          ]
        }
      ]
    },
    {
      "cell_type": "code",
      "source": [
        "var10=1200\n",
        "var11=1200\n",
        "print(id(var10))\n",
        "print(id(var11))"
      ],
      "metadata": {
        "colab": {
          "base_uri": "https://localhost:8080/"
        },
        "id": "13565WeuNIVj",
        "outputId": "2a68d9ff-87e0-4c34-abb7-d34f6a025c92"
      },
      "execution_count": 25,
      "outputs": [
        {
          "output_type": "stream",
          "name": "stdout",
          "text": [
            "133383283551952\n",
            "133383283553680\n"
          ]
        }
      ]
    },
    {
      "cell_type": "code",
      "source": [
        "var10=255\n",
        "var11=257\n",
        "print(id(var10))\n",
        "print(id(var11))"
      ],
      "metadata": {
        "colab": {
          "base_uri": "https://localhost:8080/"
        },
        "id": "TCmdeM2vNLVy",
        "outputId": "2231fc94-7b22-4819-af59-1581662bfbee"
      },
      "execution_count": 27,
      "outputs": [
        {
          "output_type": "stream",
          "name": "stdout",
          "text": [
            "133384565366960\n",
            "133383283551824\n"
          ]
        }
      ]
    },
    {
      "cell_type": "markdown",
      "source": [
        "input taking value from users:"
      ],
      "metadata": {
        "id": "VT-4pEUbOOqS"
      }
    },
    {
      "cell_type": "code",
      "source": [
        "name=input()"
      ],
      "metadata": {
        "colab": {
          "base_uri": "https://localhost:8080/"
        },
        "id": "ES4c70fPNSwC",
        "outputId": "4edc99a2-cf52-40c1-bc9b-83fd51477380"
      },
      "execution_count": 28,
      "outputs": [
        {
          "name": "stdout",
          "output_type": "stream",
          "text": [
            "bharath\n"
          ]
        }
      ]
    },
    {
      "cell_type": "code",
      "source": [
        "print(name)"
      ],
      "metadata": {
        "colab": {
          "base_uri": "https://localhost:8080/"
        },
        "id": "QukT8rLxOX87",
        "outputId": "61b64b65-385d-4aa1-d279-31f01c0a1b14"
      },
      "execution_count": 29,
      "outputs": [
        {
          "output_type": "stream",
          "name": "stdout",
          "text": [
            "bharath\n"
          ]
        }
      ]
    },
    {
      "cell_type": "code",
      "source": [
        "input(please enter age)"
      ],
      "metadata": {
        "colab": {
          "base_uri": "https://localhost:8080/",
          "height": 106
        },
        "id": "kSjDp12TObHD",
        "outputId": "ab7c844a-7638-4852-892d-2c404a98ce11"
      },
      "execution_count": 30,
      "outputs": [
        {
          "output_type": "error",
          "ename": "SyntaxError",
          "evalue": "invalid syntax. Perhaps you forgot a comma? (<ipython-input-30-c88934381c07>, line 1)",
          "traceback": [
            "\u001b[0;36m  File \u001b[0;32m\"<ipython-input-30-c88934381c07>\"\u001b[0;36m, line \u001b[0;32m1\u001b[0m\n\u001b[0;31m    input(please enter age)\u001b[0m\n\u001b[0m          ^\u001b[0m\n\u001b[0;31mSyntaxError\u001b[0m\u001b[0;31m:\u001b[0m invalid syntax. Perhaps you forgot a comma?\n"
          ]
        }
      ]
    },
    {
      "cell_type": "code",
      "source": [
        "age=input(please enter age)\n",
        "print(age)"
      ],
      "metadata": {
        "colab": {
          "base_uri": "https://localhost:8080/",
          "height": 106
        },
        "id": "AEbxum7KOj5T",
        "outputId": "d68f499b-2630-4a5a-c348-75c56ceb7f7c"
      },
      "execution_count": 31,
      "outputs": [
        {
          "output_type": "error",
          "ename": "SyntaxError",
          "evalue": "invalid syntax. Perhaps you forgot a comma? (<ipython-input-31-325988b7770f>, line 1)",
          "traceback": [
            "\u001b[0;36m  File \u001b[0;32m\"<ipython-input-31-325988b7770f>\"\u001b[0;36m, line \u001b[0;32m1\u001b[0m\n\u001b[0;31m    age=input(please enter age)\u001b[0m\n\u001b[0m              ^\u001b[0m\n\u001b[0;31mSyntaxError\u001b[0m\u001b[0;31m:\u001b[0m invalid syntax. Perhaps you forgot a comma?\n"
          ]
        }
      ]
    },
    {
      "cell_type": "code",
      "source": [
        "age=input(please enter age)"
      ],
      "metadata": {
        "colab": {
          "base_uri": "https://localhost:8080/",
          "height": 106
        },
        "id": "vS4NZ59FOprq",
        "outputId": "f6e5cc79-728f-4ecb-8a0f-672c002232a8"
      },
      "execution_count": 32,
      "outputs": [
        {
          "output_type": "error",
          "ename": "SyntaxError",
          "evalue": "invalid syntax. Perhaps you forgot a comma? (<ipython-input-32-e4881aae746b>, line 1)",
          "traceback": [
            "\u001b[0;36m  File \u001b[0;32m\"<ipython-input-32-e4881aae746b>\"\u001b[0;36m, line \u001b[0;32m1\u001b[0m\n\u001b[0;31m    age=input(please enter age)\u001b[0m\n\u001b[0m              ^\u001b[0m\n\u001b[0;31mSyntaxError\u001b[0m\u001b[0;31m:\u001b[0m invalid syntax. Perhaps you forgot a comma?\n"
          ]
        }
      ]
    },
    {
      "cell_type": "code",
      "source": [
        "age=input(\"please enter age\")"
      ],
      "metadata": {
        "colab": {
          "base_uri": "https://localhost:8080/"
        },
        "id": "w3NN01BjOt-z",
        "outputId": "f7997904-feb6-46e5-8648-928628c5e380"
      },
      "execution_count": 33,
      "outputs": [
        {
          "name": "stdout",
          "output_type": "stream",
          "text": [
            "please enter age25\n"
          ]
        }
      ]
    },
    {
      "cell_type": "code",
      "source": [
        "print(age)"
      ],
      "metadata": {
        "colab": {
          "base_uri": "https://localhost:8080/"
        },
        "id": "aMNVgeFQOzUC",
        "outputId": "0c1d985e-3f74-47f7-ab86-7b6d83e89976"
      },
      "execution_count": 34,
      "outputs": [
        {
          "output_type": "stream",
          "name": "stdout",
          "text": [
            "25\n"
          ]
        }
      ]
    },
    {
      "cell_type": "code",
      "source": [
        "age=input(\"please enter age\")\n",
        "print(\"my age is \"age)"
      ],
      "metadata": {
        "colab": {
          "base_uri": "https://localhost:8080/",
          "height": 106
        },
        "id": "ZmBx7LiwO3fr",
        "outputId": "c2b96123-8f33-47a3-b973-0764320d1245"
      },
      "execution_count": 35,
      "outputs": [
        {
          "output_type": "error",
          "ename": "SyntaxError",
          "evalue": "invalid syntax. Perhaps you forgot a comma? (<ipython-input-35-11957b9d31e1>, line 2)",
          "traceback": [
            "\u001b[0;36m  File \u001b[0;32m\"<ipython-input-35-11957b9d31e1>\"\u001b[0;36m, line \u001b[0;32m2\u001b[0m\n\u001b[0;31m    print(\"my age is \"age)\u001b[0m\n\u001b[0m          ^\u001b[0m\n\u001b[0;31mSyntaxError\u001b[0m\u001b[0;31m:\u001b[0m invalid syntax. Perhaps you forgot a comma?\n"
          ]
        }
      ]
    },
    {
      "cell_type": "code",
      "source": [
        "age=input(\"please enter age\")\n",
        "print(age)"
      ],
      "metadata": {
        "colab": {
          "base_uri": "https://localhost:8080/"
        },
        "id": "G1wuQJe6O-F7",
        "outputId": "7f8bd1fa-e363-4cc4-c171-cd4ec5bf4594"
      },
      "execution_count": 36,
      "outputs": [
        {
          "output_type": "stream",
          "name": "stdout",
          "text": [
            "please enter age25\n",
            "25\n"
          ]
        }
      ]
    },
    {
      "cell_type": "code",
      "source": [
        "age=input(\"please enter age \")\n",
        "print(age)"
      ],
      "metadata": {
        "colab": {
          "base_uri": "https://localhost:8080/"
        },
        "id": "li8VilVfPCKD",
        "outputId": "08dd2e74-45e8-49bb-dc05-008db2dce13a"
      },
      "execution_count": 37,
      "outputs": [
        {
          "output_type": "stream",
          "name": "stdout",
          "text": [
            "please enter age 27\n",
            "27\n"
          ]
        }
      ]
    },
    {
      "cell_type": "markdown",
      "source": [
        "concatenation is main to join to strings or print the statement"
      ],
      "metadata": {
        "id": "KQIMWhIgPUXT"
      }
    },
    {
      "cell_type": "code",
      "source": [
        "age=input(\"please enter age \")\n",
        "print(\"my age is \"+ age)"
      ],
      "metadata": {
        "colab": {
          "base_uri": "https://localhost:8080/"
        },
        "id": "aArAsGhHPJqC",
        "outputId": "d5db7c23-5b99-4d44-bcbf-a4756f6703a3"
      },
      "execution_count": 38,
      "outputs": [
        {
          "output_type": "stream",
          "name": "stdout",
          "text": [
            "please enter age 25\n",
            "my age is 25\n"
          ]
        }
      ]
    },
    {
      "cell_type": "code",
      "source": [],
      "metadata": {
        "id": "j3phJAVoPR6a"
      },
      "execution_count": null,
      "outputs": []
    }
  ]
}