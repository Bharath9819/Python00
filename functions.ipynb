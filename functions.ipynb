{
  "nbformat": 4,
  "nbformat_minor": 0,
  "metadata": {
    "colab": {
      "provenance": [],
      "authorship_tag": "ABX9TyMDaMRcxvdAVFLLVwzHe0O9",
      "include_colab_link": true
    },
    "kernelspec": {
      "name": "python3",
      "display_name": "Python 3"
    },
    "language_info": {
      "name": "python"
    }
  },
  "cells": [
    {
      "cell_type": "markdown",
      "metadata": {
        "id": "view-in-github",
        "colab_type": "text"
      },
      "source": [
        "<a href=\"https://colab.research.google.com/github/Bharath9819/Python00/blob/main/functions.ipynb\" target=\"_parent\"><img src=\"https://colab.research.google.com/assets/colab-badge.svg\" alt=\"Open In Colab\"/></a>"
      ]
    },
    {
      "cell_type": "code",
      "execution_count": null,
      "metadata": {
        "colab": {
          "base_uri": "https://localhost:8080/"
        },
        "id": "SmO7ayMosh3Y",
        "outputId": "79faff68-924d-433c-bd1b-93806e020e42"
      },
      "outputs": [
        {
          "output_type": "stream",
          "name": "stdout",
          "text": [
            "rama\n",
            "satya\n",
            "None\n"
          ]
        }
      ],
      "source": [
        "def name(fname,m_name,bro):\n",
        "    print (fname)\n",
        "    print(m_name)\n",
        "    return\n",
        "print(name(\"rama\",\"satya\",\"bro\"))\n"
      ]
    },
    {
      "cell_type": "code",
      "source": [
        "def name(fname,m_name,bro):\n",
        "    print (fname)\n",
        "    print(m_name)\n",
        "    return\n",
        "print(name(fname=\"rama\",bro=\"satya\",m_name=\"bro\"))"
      ],
      "metadata": {
        "colab": {
          "base_uri": "https://localhost:8080/"
        },
        "id": "T-exvUYStNMb",
        "outputId": "d4747043-76a4-42ea-c95c-4f3852d5c1de"
      },
      "execution_count": null,
      "outputs": [
        {
          "output_type": "stream",
          "name": "stdout",
          "text": [
            "rama\n",
            "bro\n",
            "None\n"
          ]
        }
      ]
    },
    {
      "cell_type": "code",
      "source": [
        "def name(fname,m_name,bro):\n",
        "    print (fname)\n",
        "    print(m_name)\n",
        "    return\n",
        "print(name(fname=\"rama\",\"satya\",m_name=\"bro\"))"
      ],
      "metadata": {
        "colab": {
          "base_uri": "https://localhost:8080/",
          "height": 106
        },
        "id": "OwIHcoaGvArj",
        "outputId": "ee86dabe-327e-410c-bc0b-30daffcdf933"
      },
      "execution_count": null,
      "outputs": [
        {
          "output_type": "error",
          "ename": "SyntaxError",
          "evalue": "positional argument follows keyword argument (<ipython-input-21-4e5a1ef97deb>, line 5)",
          "traceback": [
            "\u001b[0;36m  File \u001b[0;32m\"<ipython-input-21-4e5a1ef97deb>\"\u001b[0;36m, line \u001b[0;32m5\u001b[0m\n\u001b[0;31m    print(name(fname=\"rama\",\"satya\",m_name=\"bro\"))\u001b[0m\n\u001b[0m                                                ^\u001b[0m\n\u001b[0;31mSyntaxError\u001b[0m\u001b[0;31m:\u001b[0m positional argument follows keyword argument\n"
          ]
        }
      ]
    },
    {
      "cell_type": "markdown",
      "source": [
        "first args has to be clear when define positional or keyword ,."
      ],
      "metadata": {
        "id": "2KDY2XX5wWei"
      }
    },
    {
      "cell_type": "code",
      "source": [
        "def name(fname,m_name,bro):\n",
        "    print (fname)\n",
        "    print(m_name)\n",
        "    return\n",
        "print(name(\"rama\",bro=\"satya\",m_name=\"bro\"))"
      ],
      "metadata": {
        "colab": {
          "base_uri": "https://localhost:8080/"
        },
        "id": "yFjysWjEvYmK",
        "outputId": "bd97fb70-137b-4f9f-8da8-04fc0a64e0ba"
      },
      "execution_count": null,
      "outputs": [
        {
          "output_type": "stream",
          "name": "stdout",
          "text": [
            "rama\n",
            "bro\n",
            "None\n"
          ]
        }
      ]
    },
    {
      "cell_type": "code",
      "source": [
        "def name(A=1):\n",
        "    print (A)\n",
        "    return  \"anything is fine\"\n",
        "name(10)"
      ],
      "metadata": {
        "colab": {
          "base_uri": "https://localhost:8080/",
          "height": 53
        },
        "id": "JwESjp3bwPXD",
        "outputId": "de5a5274-55ee-44ca-d62f-4d3cfd1a4559"
      },
      "execution_count": null,
      "outputs": [
        {
          "output_type": "stream",
          "name": "stdout",
          "text": [
            "10\n"
          ]
        },
        {
          "output_type": "execute_result",
          "data": {
            "text/plain": [
              "'anything is fine'"
            ],
            "application/vnd.google.colaboratory.intrinsic+json": {
              "type": "string"
            }
          },
          "metadata": {},
          "execution_count": 24
        }
      ]
    },
    {
      "cell_type": "code",
      "source": [
        "def name (A=\"hi\"):\n",
        "    print (A)\n",
        "    return  \"anything is fine\"\n",
        "name(\"hello\")"
      ],
      "metadata": {
        "colab": {
          "base_uri": "https://localhost:8080/",
          "height": 53
        },
        "id": "IlZKqqdFxB55",
        "outputId": "5121c0a9-5c5f-4603-e22f-4c07795f95e6"
      },
      "execution_count": null,
      "outputs": [
        {
          "output_type": "stream",
          "name": "stdout",
          "text": [
            "hello\n"
          ]
        },
        {
          "output_type": "execute_result",
          "data": {
            "text/plain": [
              "'anything is fine'"
            ],
            "application/vnd.google.colaboratory.intrinsic+json": {
              "type": "string"
            }
          },
          "metadata": {},
          "execution_count": 27
        }
      ]
    },
    {
      "cell_type": "code",
      "source": [
        "def name (A=\"hi\"):\n",
        "    print (A)\n",
        "    return  \"anything is fine\"\n",
        "name()"
      ],
      "metadata": {
        "colab": {
          "base_uri": "https://localhost:8080/",
          "height": 53
        },
        "id": "iXMi5IjyxJpi",
        "outputId": "89b6339a-580a-4b7d-f6f2-b2158b844983"
      },
      "execution_count": null,
      "outputs": [
        {
          "output_type": "stream",
          "name": "stdout",
          "text": [
            "hi\n"
          ]
        },
        {
          "output_type": "execute_result",
          "data": {
            "text/plain": [
              "'anything is fine'"
            ],
            "application/vnd.google.colaboratory.intrinsic+json": {
              "type": "string"
            }
          },
          "metadata": {},
          "execution_count": 28
        }
      ]
    },
    {
      "cell_type": "code",
      "source": [
        "def name (A=\"hi\",b=\"orange\",c=\"give\"):\n",
        "    print (A)\n",
        "    return  \"anything is fine\"\n",
        "name()"
      ],
      "metadata": {
        "colab": {
          "base_uri": "https://localhost:8080/",
          "height": 53
        },
        "id": "_ekFc1t0xcnr",
        "outputId": "2747d485-2afb-4db6-83f8-7124955e739d"
      },
      "execution_count": null,
      "outputs": [
        {
          "output_type": "stream",
          "name": "stdout",
          "text": [
            "hi\n"
          ]
        },
        {
          "output_type": "execute_result",
          "data": {
            "text/plain": [
              "'anything is fine'"
            ],
            "application/vnd.google.colaboratory.intrinsic+json": {
              "type": "string"
            }
          },
          "metadata": {},
          "execution_count": 31
        }
      ]
    },
    {
      "cell_type": "code",
      "source": [
        "def name(hi,b=\"give\",c=\"orange\"):\n",
        "    print (hi,b,c)\n",
        "    return  \"anything is fine\"\n",
        "name(\"bilal\",\"when\",c=\"nice\")"
      ],
      "metadata": {
        "colab": {
          "base_uri": "https://localhost:8080/",
          "height": 53
        },
        "id": "_--dAcKNyEtD",
        "outputId": "095ca59e-2072-4484-b856-61aa09120873"
      },
      "execution_count": null,
      "outputs": [
        {
          "output_type": "stream",
          "name": "stdout",
          "text": [
            "bilal when nice\n"
          ]
        },
        {
          "output_type": "execute_result",
          "data": {
            "text/plain": [
              "'anything is fine'"
            ],
            "application/vnd.google.colaboratory.intrinsic+json": {
              "type": "string"
            }
          },
          "metadata": {},
          "execution_count": 42
        }
      ]
    },
    {
      "cell_type": "code",
      "source": [
        "no_id=1\n",
        "def name(name,id,age):\n",
        "    global no_id   #global verbal\n",
        "    print (name)\n",
        "    print (id)\n",
        "    no_id = no_id+1\n",
        "    print(no_id)\n",
        "    print (age)\n",
        "    return  \"anything is fine\"\n",
        "name(\"bharath\",\"1\",\"25\")"
      ],
      "metadata": {
        "id": "nZQwpUC6ykMT",
        "colab": {
          "base_uri": "https://localhost:8080/",
          "height": 105
        },
        "outputId": "b1a862e7-62d2-47d5-e047-dc42d67e5ec1"
      },
      "execution_count": 5,
      "outputs": [
        {
          "output_type": "stream",
          "name": "stdout",
          "text": [
            "bharath\n",
            "1\n",
            "2\n",
            "25\n"
          ]
        },
        {
          "output_type": "execute_result",
          "data": {
            "text/plain": [
              "'anything is fine'"
            ],
            "application/vnd.google.colaboratory.intrinsic+json": {
              "type": "string"
            }
          },
          "metadata": {},
          "execution_count": 5
        }
      ]
    },
    {
      "cell_type": "code",
      "source": [
        "name(\"bilal\",\"2\",\"25\")"
      ],
      "metadata": {
        "colab": {
          "base_uri": "https://localhost:8080/",
          "height": 105
        },
        "id": "gZe4qcilMNFB",
        "outputId": "633c9c61-c651-4bd8-d24b-583d9947e542"
      },
      "execution_count": 6,
      "outputs": [
        {
          "output_type": "stream",
          "name": "stdout",
          "text": [
            "bilal\n",
            "2\n",
            "3\n",
            "25\n"
          ]
        },
        {
          "output_type": "execute_result",
          "data": {
            "text/plain": [
              "'anything is fine'"
            ],
            "application/vnd.google.colaboratory.intrinsic+json": {
              "type": "string"
            }
          },
          "metadata": {},
          "execution_count": 6
        }
      ]
    },
    {
      "cell_type": "code",
      "source": [
        "a=1\n",
        "def name(a,b,c=\"orange\"):\n",
        "    a=11\n",
        "    print (a,b,c)\n",
        "    return  \"anything is fine\"\n",
        "name(\"bilal\",\"when\",c=\"nice\")"
      ],
      "metadata": {
        "colab": {
          "base_uri": "https://localhost:8080/",
          "height": 53
        },
        "id": "Y7SsxW5AM2iy",
        "outputId": "59f79f14-791a-4f6b-a954-1ebb219806ff"
      },
      "execution_count": 7,
      "outputs": [
        {
          "output_type": "stream",
          "name": "stdout",
          "text": [
            "11 when nice\n"
          ]
        },
        {
          "output_type": "execute_result",
          "data": {
            "text/plain": [
              "'anything is fine'"
            ],
            "application/vnd.google.colaboratory.intrinsic+json": {
              "type": "string"
            }
          },
          "metadata": {},
          "execution_count": 7
        }
      ]
    },
    {
      "cell_type": "markdown",
      "source": [
        "nested function:"
      ],
      "metadata": {
        "id": "GvlsDiACR-Yh"
      }
    },
    {
      "cell_type": "code",
      "source": [
        "def func(name,acct_id):\n",
        "    print(name)\n",
        "    acct_id+=1\n",
        "    print(acct_id)\n",
        "\n",
        "    def func1(age):\n",
        "       print(age ,\"is my age\")\n",
        "\n",
        "    func1(18)\n",
        "func(\"bharath\",12)"
      ],
      "metadata": {
        "colab": {
          "base_uri": "https://localhost:8080/"
        },
        "id": "VHbfqyGONUVw",
        "outputId": "232ffdda-0a00-4ce6-ec74-6e97b286062b"
      },
      "execution_count": 12,
      "outputs": [
        {
          "output_type": "stream",
          "name": "stdout",
          "text": [
            "bharath\n",
            "13\n",
            "18 is my age\n"
          ]
        }
      ]
    },
    {
      "cell_type": "markdown",
      "source": [
        "syntax worng check with above function."
      ],
      "metadata": {
        "id": "nCc3LJktSFcZ"
      }
    },
    {
      "cell_type": "code",
      "source": [
        "def func(name,acct_id):\n",
        "    print(name)\n",
        "    acct_id+=1\n",
        "    print(acct_id)\n",
        "\n",
        "    def func1(age):\n",
        "       print(age ,\"is my age\")\n",
        "\n",
        "\n",
        "func(\"bharath\",12)\n",
        "    func1(18)"
      ],
      "metadata": {
        "colab": {
          "base_uri": "https://localhost:8080/",
          "height": 106
        },
        "id": "aWEGAia1R5xi",
        "outputId": "1373187f-ff7c-42c0-ce14-dd49d7fc8213"
      },
      "execution_count": 11,
      "outputs": [
        {
          "output_type": "error",
          "ename": "IndentationError",
          "evalue": "unexpected indent (<ipython-input-11-a7309d161e1e>, line 11)",
          "traceback": [
            "\u001b[0;36m  File \u001b[0;32m\"<ipython-input-11-a7309d161e1e>\"\u001b[0;36m, line \u001b[0;32m11\u001b[0m\n\u001b[0;31m    func1(18)\u001b[0m\n\u001b[0m    ^\u001b[0m\n\u001b[0;31mIndentationError\u001b[0m\u001b[0;31m:\u001b[0m unexpected indent\n"
          ]
        }
      ]
    },
    {
      "cell_type": "code",
      "source": [],
      "metadata": {
        "id": "za4Eg_avSCvh"
      },
      "execution_count": null,
      "outputs": []
    }
  ]
}