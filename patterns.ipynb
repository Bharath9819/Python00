{
  "nbformat": 4,
  "nbformat_minor": 0,
  "metadata": {
    "colab": {
      "provenance": [],
      "authorship_tag": "ABX9TyNrQzDXKo9EpB8C1FlKeGbu",
      "include_colab_link": true
    },
    "kernelspec": {
      "name": "python3",
      "display_name": "Python 3"
    },
    "language_info": {
      "name": "python"
    }
  },
  "cells": [
    {
      "cell_type": "markdown",
      "metadata": {
        "id": "view-in-github",
        "colab_type": "text"
      },
      "source": [
        "<a href=\"https://colab.research.google.com/github/Bharath9819/Python00/blob/main/patterns.ipynb\" target=\"_parent\"><img src=\"https://colab.research.google.com/assets/colab-badge.svg\" alt=\"Open In Colab\"/></a>"
      ]
    },
    {
      "cell_type": "markdown",
      "source": [
        "Pattern Problems"
      ],
      "metadata": {
        "id": "oa0898HooJ4p"
      }
    },
    {
      "cell_type": "code",
      "execution_count": null,
      "metadata": {
        "colab": {
          "base_uri": "https://localhost:8080/"
        },
        "id": "yLoeOVLzoIzV",
        "outputId": "cd57696d-36fb-466e-cade-c35d4950df3e"
      },
      "outputs": [
        {
          "output_type": "stream",
          "name": "stdout",
          "text": [
            "5\n",
            "* \n",
            "* * \n",
            "* * * \n",
            "* * * * \n",
            "* * * * * \n"
          ]
        }
      ],
      "source": [
        "for i in range(int(input())):\n",
        "       for j in range (i+1):\n",
        "            print(\"*\",end=\" \")\n",
        "       print()\n"
      ]
    },
    {
      "cell_type": "code",
      "source": [
        "for i in range(int(input())):\n",
        "       for j in range (i+1):\n",
        "            print((i,j),end=\" \")\n",
        "       print()"
      ],
      "metadata": {
        "colab": {
          "base_uri": "https://localhost:8080/"
        },
        "id": "QVqr7JdRoh5I",
        "outputId": "a7771344-fbf9-412b-8fac-80a4ecc3ee52"
      },
      "execution_count": null,
      "outputs": [
        {
          "output_type": "stream",
          "name": "stdout",
          "text": [
            "5\n",
            "(0, 0) \n",
            "(1, 0) (1, 1) \n",
            "(2, 0) (2, 1) (2, 2) \n",
            "(3, 0) (3, 1) (3, 2) (3, 3) \n",
            "(4, 0) (4, 1) (4, 2) (4, 3) (4, 4) \n"
          ]
        }
      ]
    },
    {
      "cell_type": "code",
      "source": [
        "n=int(input())\n",
        "for i in range(n):\n",
        "       for j in range (n-i):\n",
        "            print(\"*\",end=\" \")\n",
        "       print()"
      ],
      "metadata": {
        "colab": {
          "base_uri": "https://localhost:8080/"
        },
        "id": "I6hWziGQphnJ",
        "outputId": "39c3f69a-77a2-4ccd-8647-52117a03d037"
      },
      "execution_count": null,
      "outputs": [
        {
          "output_type": "stream",
          "name": "stdout",
          "text": [
            "5\n",
            "* * * * * \n",
            "* * * * \n",
            "* * * \n",
            "* * \n",
            "* \n"
          ]
        }
      ]
    },
    {
      "cell_type": "code",
      "source": [
        "n=int(input())\n",
        "for i in range(n):\n",
        "       for j in range (n-i-1):\n",
        "            print(\" \",end=\"\")\n",
        "       for j in range (i+1):\n",
        "           print(\"*\",end =\"\")\n",
        "       print()"
      ],
      "metadata": {
        "colab": {
          "base_uri": "https://localhost:8080/"
        },
        "id": "Tk6PxFYOqCr3",
        "outputId": "8fba7134-9f0d-41ce-d872-1b5c425b0602"
      },
      "execution_count": null,
      "outputs": [
        {
          "output_type": "stream",
          "name": "stdout",
          "text": [
            "5\n",
            "    *\n",
            "   **\n",
            "  ***\n",
            " ****\n",
            "*****\n"
          ]
        }
      ]
    },
    {
      "cell_type": "markdown",
      "source": [
        "simple with replace the code with above step:"
      ],
      "metadata": {
        "id": "DT4Ym6__RZF3"
      }
    },
    {
      "cell_type": "code",
      "source": [
        "n=int(input())\n",
        "for i in range(n):\n",
        "      print(\" \"*(n-i-1),end=\"\")\n",
        "      print(\"*\"*(i+1),end =\"\")\n",
        "      print()"
      ],
      "metadata": {
        "colab": {
          "base_uri": "https://localhost:8080/"
        },
        "id": "7yinQD0kMBnm",
        "outputId": "62b1d12c-ea34-4044-8513-81f0f72c3ea6"
      },
      "execution_count": null,
      "outputs": [
        {
          "output_type": "stream",
          "name": "stdout",
          "text": [
            "5\n",
            "    *\n",
            "   **\n",
            "  ***\n",
            " ****\n",
            "*****\n"
          ]
        }
      ]
    },
    {
      "cell_type": "markdown",
      "source": [
        "simplify into small : takes same memory , but ur team appreciate you."
      ],
      "metadata": {
        "id": "K3JKevXVSPAP"
      }
    },
    {
      "cell_type": "code",
      "source": [
        "n=int(input())\n",
        "for i in range(n):\n",
        "      print(\" \"*(n-i-1)+ \"*\"*(i+1),end=\"\\n\")"
      ],
      "metadata": {
        "colab": {
          "base_uri": "https://localhost:8080/"
        },
        "id": "wgAACKCcRO_3",
        "outputId": "9bb4f5e1-4a47-47e5-d318-4b8e54c24d24"
      },
      "execution_count": null,
      "outputs": [
        {
          "output_type": "stream",
          "name": "stdout",
          "text": [
            "8\n",
            "       *\n",
            "      **\n",
            "     ***\n",
            "    ****\n",
            "   *****\n",
            "  ******\n",
            " *******\n",
            "********\n"
          ]
        }
      ]
    },
    {
      "cell_type": "code",
      "source": [
        "\n",
        "N = int(input())\n",
        "for i in range(N): # outer loop for each and every row\n",
        "    for j in range(1, i+2):\n",
        "        if j%2==0:\n",
        "            print(j, end=\"\")\n",
        "        else:\n",
        "            print('*', end='')\n",
        "    print()\n"
      ],
      "metadata": {
        "colab": {
          "base_uri": "https://localhost:8080/"
        },
        "id": "Mt42T5cSSNC1",
        "outputId": "18be1914-3dd2-4012-a638-135633748956"
      },
      "execution_count": null,
      "outputs": [
        {
          "output_type": "stream",
          "name": "stdout",
          "text": [
            "5\n",
            "*\n",
            "*2\n",
            "*2*\n",
            "*2*4\n",
            "*2*4*\n"
          ]
        }
      ]
    },
    {
      "cell_type": "code",
      "source": [],
      "metadata": {
        "id": "dEtxwW0cvXWp"
      },
      "execution_count": null,
      "outputs": []
    }
  ]
}